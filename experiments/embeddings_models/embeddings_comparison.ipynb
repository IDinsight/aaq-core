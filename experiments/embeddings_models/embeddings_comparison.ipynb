{
 "cells": [
  {
   "cell_type": "code",
   "execution_count": null,
   "metadata": {},
   "outputs": [],
   "source": [
    "from sentence_transformers import SentenceTransformer, util\n",
    "from litellm import embedding\n",
    "import os\n",
    "import numpy as np\n",
    "import pandas as pd\n",
    "import torch\n",
    "\n",
    "os.environ[\"OPENAI_API_KEY\"] = \"\""
   ]
  },
  {
   "cell_type": "markdown",
   "metadata": {},
   "source": [
    "# Import and test run GTE-Large"
   ]
  },
  {
   "cell_type": "code",
   "execution_count": null,
   "metadata": {},
   "outputs": [],
   "source": [
    "model = SentenceTransformer('thenlper/gte-large')"
   ]
  },
  {
   "cell_type": "code",
   "execution_count": null,
   "metadata": {},
   "outputs": [],
   "source": [
    "sentences_1 = [\"My grandmother is nice\"]\n",
    "sentences_2 = [\"I think old people are nice\"]\n",
    "\n",
    "embeddings_1 = model.encode(sentences_1, normalize_embeddings=True)\n",
    "embeddings_2 = model.encode(sentences_2, normalize_embeddings=True)\n",
    "similarity = embeddings_1 @ embeddings_2.T\n",
    "print(similarity)"
   ]
  },
  {
   "cell_type": "markdown",
   "metadata": {},
   "source": [
    "# Test run OpenAI Ada"
   ]
  },
  {
   "cell_type": "code",
   "execution_count": null,
   "metadata": {},
   "outputs": [],
   "source": [
    "open_1 = embedding(\"text-embedding-ada-002\", sentences_1).data[0][\"embedding\"]\n",
    "open_2 = embedding(\"text-embedding-ada-002\", sentences_2).data[0][\"embedding\"]\n",
    "\n",
    "similarity = np.array(open_1) @ np.array(open_2).T\n",
    "print(similarity)"
   ]
  },
  {
   "cell_type": "markdown",
   "metadata": {},
   "source": [
    "# Import and Clean Data"
   ]
  },
  {
   "cell_type": "code",
   "execution_count": null,
   "metadata": {},
   "outputs": [],
   "source": [
    "faq = pd.read_csv(\"<praekelt_mc_faqs.csv>\")\n",
    "qna = pd.read_csv(\"<validation_khumo_labelled_aaq.csv>\")"
   ]
  },
  {
   "cell_type": "code",
   "execution_count": null,
   "metadata": {},
   "outputs": [],
   "source": [
    "# Find the elements in qna_set which are not there in faq_set and remove them.\n",
    "faq_set = set(faq[\"faq_title\"])\n",
    "qna_set = set(qna[\"FAQ Name\"])\n",
    "\n",
    "# Remove all rows of qna which are not in faq\n",
    "qna = qna[~qna[\"FAQ Name\"].isin(qna_set.difference(faq_set))]\n",
    "qna"
   ]
  },
  {
   "cell_type": "markdown",
   "metadata": {},
   "source": [
    "# Evaluate GTE-large"
   ]
  },
  {
   "cell_type": "code",
   "execution_count": null,
   "metadata": {},
   "outputs": [],
   "source": [
    "# Encode all the questions and faqs\n",
    "question_embeddings = model.encode(qna[\"Question\"].tolist(), normalize_embeddings=True, convert_to_tensor=True)\n",
    "faq_embeddings = model.encode(faq[\"faq_content_to_send\"].tolist(), normalize_embeddings=True, convert_to_tensor=True)"
   ]
  },
  {
   "cell_type": "code",
   "execution_count": null,
   "metadata": {},
   "outputs": [],
   "source": [
    "# Get top 10 similarity using semantic search from sentence transformers\n",
    "# You can swith the k to get match rates for any other top k\n",
    "result = util.semantic_search(\n",
    "    question_embeddings,\n",
    "    faq_embeddings,\n",
    "    top_k=10\n",
    ")"
   ]
  },
  {
   "cell_type": "code",
   "execution_count": null,
   "metadata": {},
   "outputs": [],
   "source": [
    "# Create results_df\n",
    "top_10_corpus_id = []\n",
    "top_10_scores = []\n",
    "top_10_faq_title = []\n",
    "top_10_faq_content_to_send = []\n",
    "\n",
    "# Iterate over the list of lists\n",
    "for x in result:\n",
    "    # Extract the 'corpus_id' and 'score' values and append them to the respective lists\n",
    "    top_10_corpus_id.append([item['corpus_id'] for item in x])\n",
    "    top_10_scores.append([item['score'] for item in x])\n",
    "    top_10_faq_title.append([faq[\"faq_title\"][item['corpus_id']] for item in x])\n",
    "    top_10_faq_content_to_send.append([faq[\"faq_content_to_send\"][item['corpus_id']] for item in x])\n",
    "\n",
    "# Create a DataFrame\n",
    "results_df = pd.DataFrame({\n",
    "    'question': qna[\"question_with_instruction\"],\n",
    "    'top_10_corpus_id': top_10_corpus_id,\n",
    "    'top_10_scores': top_10_scores,\n",
    "    'top_10_faq_title': top_10_faq_title,\n",
    "    'top_10_faq_content_to_send': top_10_faq_content_to_send,\n",
    "    'correct_title': qna[\"FAQ Name\"],\n",
    "})\n",
    "\n",
    "results_df[\"correct\"] = results_df.apply(lambda x: x[\"correct_title\"] in x[\"top_10_faq_title\"], axis=1)\n",
    "results_df.correct.mean()"
   ]
  },
  {
   "cell_type": "markdown",
   "metadata": {},
   "source": [
    "# Evaluate Ada (OpenAI)"
   ]
  },
  {
   "cell_type": "code",
   "execution_count": null,
   "metadata": {},
   "outputs": [],
   "source": [
    "# Get Ada embeddings for all the questions in qna\n",
    "faq_embeddings_openai = []\n",
    "for i in faq[\"faq_content_to_send\"]:\n",
    "    faq_embeddings_openai.append(embedding(\"text-embedding-ada-002\", i).data[0][\"embedding\"])\n",
    "\n",
    "faq_embeddings_openai = torch.tensor(faq_embeddings_openai)"
   ]
  },
  {
   "cell_type": "code",
   "execution_count": null,
   "metadata": {},
   "outputs": [],
   "source": [
    "# Get Ada embeddings for all the questions in qna\n",
    "question_embeddings_openai = []\n",
    "for i in qna[\"Question\"]:\n",
    "    question_embeddings_openai.append(embedding(\"text-embedding-ada-002\", i).data[0][\"embedding\"])\n",
    "\n",
    "question_embeddings_openai = torch.tensor(question_embeddings_openai)"
   ]
  },
  {
   "cell_type": "code",
   "execution_count": null,
   "metadata": {},
   "outputs": [],
   "source": [
    "# Get top 10 similarity using semantic search from sentence transformers\n",
    "# You can swith the k to get match rates for any other top k\n",
    "result_openai = util.semantic_search(\n",
    "    question_embeddings_openai,\n",
    "    faq_embeddings_openai,\n",
    "    top_k=10\n",
    ")"
   ]
  },
  {
   "cell_type": "code",
   "execution_count": null,
   "metadata": {},
   "outputs": [],
   "source": [
    "# Create results_df\n",
    "top_10_corpus_id = []\n",
    "top_10_scores = []\n",
    "top_10_faq_title = []\n",
    "top_10_faq_content_to_send = []\n",
    "\n",
    "# Iterate over the list of lists\n",
    "for x in result_openai:\n",
    "    # Extract the 'corpus_id' and 'score' values and append them to the respective lists\n",
    "    top_10_corpus_id.append([item['corpus_id'] for item in x])\n",
    "    top_10_scores.append([item['score'] for item in x])\n",
    "    top_10_faq_title.append([faq[\"faq_title\"][item['corpus_id']] for item in x])\n",
    "    top_10_faq_content_to_send.append([faq[\"faq_content_to_send\"][item['corpus_id']] for item in x])\n",
    "\n",
    "# Create a DataFrame\n",
    "results_openai_df = pd.DataFrame({\n",
    "    'question': qna[\"question_with_instruction\"],\n",
    "    'top_10_corpus_id': top_10_corpus_id,\n",
    "    'top_10_scores': top_10_scores,\n",
    "    'top_10_faq_title': top_10_faq_title,\n",
    "    'top_10_faq_content_to_send': top_10_faq_content_to_send,\n",
    "    'correct_title': qna[\"FAQ Name\"],\n",
    "})\n",
    "\n",
    "results_openai_df[\"correct\"] = results_df.apply(lambda x: x[\"correct_title\"] in x[\"top_10_faq_title\"], axis=1)\n",
    "results_openai_df.correct.mean()"
   ]
  }
 ],
 "metadata": {
  "kernelspec": {
   "display_name": "aaq-core",
   "language": "python",
   "name": "python3"
  },
  "language_info": {
   "codemirror_mode": {
    "name": "ipython",
    "version": 3
   },
   "file_extension": ".py",
   "mimetype": "text/x-python",
   "name": "python",
   "nbconvert_exporter": "python",
   "pygments_lexer": "ipython3",
   "version": "3.11.0"
  }
 },
 "nbformat": 4,
 "nbformat_minor": 2
}
