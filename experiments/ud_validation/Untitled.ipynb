{
 "cells": [
  {
   "cell_type": "code",
   "execution_count": 13,
   "id": "83f46d27-59a0-4bda-8c07-26b00ea0f841",
   "metadata": {},
   "outputs": [
    {
     "name": "stdout",
     "output_type": "stream",
     "text": [
      "The autoreload extension is already loaded. To reload it, use:\n",
      "  %reload_ext autoreload\n"
     ]
    }
   ],
   "source": [
    "%load_ext autoreload"
   ]
  },
  {
   "cell_type": "code",
   "execution_count": 14,
   "id": "800e4e25-a42a-4bae-852d-2fe27cff57a6",
   "metadata": {},
   "outputs": [],
   "source": [
    "%autoreload 2"
   ]
  },
  {
   "cell_type": "code",
   "execution_count": 2,
   "id": "ae840a9a-5f3b-4385-b480-e519945876bc",
   "metadata": {},
   "outputs": [],
   "source": [
    "import pandas as pd"
   ]
  },
  {
   "cell_type": "code",
   "execution_count": 1,
   "id": "470fdfaa-b6ff-4a10-9473-675aa4fc50c8",
   "metadata": {},
   "outputs": [],
   "source": [
    "# Load results"
   ]
  },
  {
   "cell_type": "code",
   "execution_count": 3,
   "id": "f64bbd59-4498-4436-9da5-fc3da11b694b",
   "metadata": {},
   "outputs": [],
   "source": [
    "df = pd.read_csv(\"../../processed_results_full.csv\")"
   ]
  },
  {
   "cell_type": "code",
   "execution_count": 6,
   "id": "1d400bbe-c4ea-4495-bfc5-486b517a96f9",
   "metadata": {},
   "outputs": [
    {
     "data": {
      "text/html": [
       "<div>\n",
       "<style scoped>\n",
       "    .dataframe tbody tr th:only-of-type {\n",
       "        vertical-align: middle;\n",
       "    }\n",
       "\n",
       "    .dataframe tbody tr th {\n",
       "        vertical-align: top;\n",
       "    }\n",
       "\n",
       "    .dataframe thead th {\n",
       "        text-align: right;\n",
       "    }\n",
       "</style>\n",
       "<table border=\"1\" class=\"dataframe\">\n",
       "  <thead>\n",
       "    <tr style=\"text-align: right;\">\n",
       "      <th></th>\n",
       "      <th>Unnamed: 0</th>\n",
       "      <th>message</th>\n",
       "      <th>urgency_label</th>\n",
       "      <th>min_distance</th>\n",
       "    </tr>\n",
       "  </thead>\n",
       "  <tbody>\n",
       "    <tr>\n",
       "      <th>0</th>\n",
       "      <td>0</td>\n",
       "      <td>If I'm 35 weeks and 5 day which date will I gi...</td>\n",
       "      <td>False</td>\n",
       "      <td>0.734335</td>\n",
       "    </tr>\n",
       "    <tr>\n",
       "      <th>1</th>\n",
       "      <td>1</td>\n",
       "      <td>I'm feeling pain into my right side and also b...</td>\n",
       "      <td>False</td>\n",
       "      <td>0.403162</td>\n",
       "    </tr>\n",
       "    <tr>\n",
       "      <th>2</th>\n",
       "      <td>2</td>\n",
       "      <td>My baby is not interested in the food what mus...</td>\n",
       "      <td>False</td>\n",
       "      <td>0.598436</td>\n",
       "    </tr>\n",
       "    <tr>\n",
       "      <th>3</th>\n",
       "      <td>3</td>\n",
       "      <td>How to give a 1 week baby water?</td>\n",
       "      <td>False</td>\n",
       "      <td>0.700614</td>\n",
       "    </tr>\n",
       "    <tr>\n",
       "      <th>4</th>\n",
       "      <td>4</td>\n",
       "      <td>What kind of meals should I be eating?</td>\n",
       "      <td>False</td>\n",
       "      <td>0.747561</td>\n",
       "    </tr>\n",
       "  </tbody>\n",
       "</table>\n",
       "</div>"
      ],
      "text/plain": [
       "   Unnamed: 0                                            message  \\\n",
       "0           0  If I'm 35 weeks and 5 day which date will I gi...   \n",
       "1           1  I'm feeling pain into my right side and also b...   \n",
       "2           2  My baby is not interested in the food what mus...   \n",
       "3           3                   How to give a 1 week baby water?   \n",
       "4           4             What kind of meals should I be eating?   \n",
       "\n",
       "   urgency_label  min_distance  \n",
       "0          False      0.734335  \n",
       "1          False      0.403162  \n",
       "2          False      0.598436  \n",
       "3          False      0.700614  \n",
       "4          False      0.747561  "
      ]
     },
     "execution_count": 6,
     "metadata": {},
     "output_type": "execute_result"
    }
   ],
   "source": [
    "df.head()"
   ]
  },
  {
   "cell_type": "code",
   "execution_count": 5,
   "id": "a807ccf5-c4e6-4dbd-bb81-b61d8fc00187",
   "metadata": {},
   "outputs": [
    {
     "name": "stderr",
     "output_type": "stream",
     "text": [
      "Matplotlib is building the font cache; this may take a moment.\n"
     ]
    }
   ],
   "source": [
    "import matplotlib.pyplot as plt\n",
    "\n",
    "from sklearn.metrics import RocCurveDisplay"
   ]
  },
  {
   "cell_type": "code",
   "execution_count": 13,
   "id": "e69d486c-5ffc-49eb-8545-5650a83939e7",
   "metadata": {},
   "outputs": [
    {
     "data": {
      "text/plain": [
       "<sklearn.metrics._plot.roc_curve.RocCurveDisplay at 0x133661b90>"
      ]
     },
     "execution_count": 13,
     "metadata": {},
     "output_type": "execute_result"
    },
    {
     "data": {
      "image/png": "[encoded data removed]",
      "text/plain": [
       "<Figure size 700x700 with 1 Axes>"
      ]
     },
     "metadata": {},
     "output_type": "display_data"
    }
   ],
   "source": [
    "f, ax = plt.subplots(figsize=(7,7))\n",
    "RocCurveDisplay.from_predictions(df.urgency_label, 1 - df.min_distance, name=\"cosine distance\", ax=ax)"
   ]
  },
  {
   "cell_type": "code",
   "execution_count": null,
   "id": "5ded554e-fe6e-4c69-bbe0-c5c6b697b9bb",
   "metadata": {},
   "outputs": [],
   "source": [
    "df = pd.read_csv(\"../../processed_results-llm.csv\")"
   ]
  }
 ],
 "metadata": {
  "kernelspec": {
   "display_name": "Python 3 (ipykernel)",
   "language": "python",
   "name": "python3"
  },
  "language_info": {
   "codemirror_mode": {
    "name": "ipython",
    "version": 3
   },
   "file_extension": ".py",
   "mimetype": "text/x-python",
   "name": "python",
   "nbconvert_exporter": "python",
   "pygments_lexer": "ipython3",
   "version": "3.11.0"
  }
 },
 "nbformat": 4,
 "nbformat_minor": 5
}
