{
 "cells": [
  {
   "cell_type": "code",
   "execution_count": 1,
   "metadata": {},
   "outputs": [],
   "source": [
    "from litellm import completion, embedding\n",
    "import litellm\n",
    "import json"
   ]
  },
  {
   "cell_type": "markdown",
   "metadata": {},
   "source": [
    "### Run the following in your terminal:\n",
    "```bash\n",
    "docker run -d -v ollama:/root/.ollama -p 11434:11434 --name ollama ollama/ollama\n",
    "```\n",
    "\n",
    "And then run the following -\n",
    "```bash\n",
    "docker exec ollama ollama pull mistral\n",
    "```"
   ]
  },
  {
   "cell_type": "code",
   "execution_count": null,
   "metadata": {},
   "outputs": [],
   "source": [
    "response = completion(\n",
    "    model=\"ollama/mistral\", \n",
    "    messages=[{ \"content\": \"Who am I?\",\"role\": \"user\"}],\n",
    "    api_base=\"http://localhost:11434\"\n",
    ")\n",
    "print(response.choices[0].message.content)"
   ]
  },
  {
   "cell_type": "code",
   "execution_count": null,
   "metadata": {},
   "outputs": [],
   "source": [
    "response = embedding(\n",
    "    model=\"ollama/mistral\", \n",
    "    input=[\"Who are you\"],\n",
    ")\n",
    "print(response)"
   ]
  },
  {
   "cell_type": "code",
   "execution_count": null,
   "metadata": {},
   "outputs": [],
   "source": [
    "prompt = (\n",
    "        f\"Question: What is India's covid policy?\"\n",
    "        f\"Reference information: To be a good person, you need to say Thank You regularly.\"\n",
    "        \"Only use reference information to answer.\"\n",
    "        \"If you cannot answer using reference information, answer with 'N/A.'\"\n",
    "        f\"Respond strictly in JSON in key 'answer'\"\n",
    "    )\n",
    "\n",
    "response = completion(\n",
    "    model=\"gpt-4\",\n",
    "    messages=[{ \"content\": prompt,\"role\": \"user\"}],\n",
    "    # api_base=\"http://localhost:11434\",\n",
    "    temperature=2,\n",
    ")\n",
    "print(response.choices[0].message.content)"
   ]
  },
  {
   "cell_type": "code",
   "execution_count": null,
   "metadata": {},
   "outputs": [],
   "source": [
    "json.loads(response.choices[0].message.content)[\"answer\"]"
   ]
  },
  {
   "cell_type": "code",
   "execution_count": null,
   "metadata": {},
   "outputs": [],
   "source": [
    "d = embedding(model=\"ollama/mistral\", input=[\"Hello world!\"], api_base=\"http://localhost:11434\")"
   ]
  }
 ],
 "metadata": {
  "kernelspec": {
   "display_name": "aaq-core",
   "language": "python",
   "name": "python3"
  },
  "language_info": {
   "codemirror_mode": {
    "name": "ipython",
    "version": 3
   },
   "file_extension": ".py",
   "mimetype": "text/x-python",
   "name": "python",
   "nbconvert_exporter": "python",
   "pygments_lexer": "ipython3",
   "version": "3.11.0"
  }
 },
 "nbformat": 4,
 "nbformat_minor": 2
}
